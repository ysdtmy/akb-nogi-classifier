{
 "cells": [
  {
   "cell_type": "code",
   "execution_count": 1,
   "metadata": {},
   "outputs": [
    {
     "name": "stderr",
     "output_type": "stream",
     "text": [
      "/Users/yoshidatomoya/.pyenv/versions/anaconda3-4.4.0/lib/python3.6/site-packages/h5py/__init__.py:36: FutureWarning: Conversion of the second argument of issubdtype from `float` to `np.floating` is deprecated. In future, it will be treated as `np.float64 == np.dtype(float).type`.\n",
      "  from ._conv import register_converters as _register_converters\n",
      "Using TensorFlow backend.\n"
     ]
    }
   ],
   "source": [
    "import numpy as np\n",
    "from keras import layers\n",
    "from keras.layers import Input, Dense, Activation, ZeroPadding2D, BatchNormalization, Flatten, Conv2D\n",
    "from keras.layers import AveragePooling2D, MaxPooling2D, Dropout, GlobalMaxPooling2D, GlobalAveragePooling2D\n",
    "from keras.models import Model\n",
    "from keras.preprocessing import image\n",
    "from keras.utils import layer_utils\n",
    "from keras.utils.data_utils import get_file\n",
    "from keras.applications.imagenet_utils import preprocess_input\n",
    "from IPython.display import SVG\n",
    "from keras.utils.vis_utils import model_to_dot\n",
    "from keras.utils import plot_model\n",
    "from keras.optimizers import Adam\n",
    "from keras.losses import binary_crossentropy\n",
    "from keras.models import Sequential\n",
    "\n",
    "import keras.backend as K\n",
    "K.set_image_data_format('channels_last')\n",
    "import matplotlib.pyplot as plt\n",
    "from matplotlib.pyplot import imshow\n",
    "\n",
    "from PIL import Image\n",
    "import os\n",
    "import shutil\n",
    "import random\n",
    "%matplotlib inline"
   ]
  },
  {
   "cell_type": "code",
   "execution_count": 5,
   "metadata": {},
   "outputs": [],
   "source": [
    "X_train_ori = np.zeros((1200,96,96,3))\n",
    "X_test_ori  = np.zeros((100,96,96,3))\n",
    "Y_train  = np.zeros((1200, 1))\n",
    "Y_test  = np.zeros((100, 1))\n",
    "\n",
    "train_nogi = './img/train/nogi'\n",
    "train_akb = './img/train/akb/'\n",
    "test_nogi = './img/test/nogi/'\n",
    "test_akb = './img/test/akb/'\n",
    "\n",
    "# nogi_train\n",
    "for i, file in enumerate(os.listdir(train_nogi)):\n",
    "    if file[-3:] == \"jpg\":            \n",
    "        img = image.loaßd_img(os.path.join(train_nogi, file), target_size= (96, 96))\n",
    "        arr = image.img_to_array(img)\n",
    "        arr = np.expand_dims(img, axis=0)\n",
    "        X_train_ori [i,] = arr\n",
    "        Y_train [i,] = 0\n",
    "\n",
    "# akb_train\n",
    "for i, file in enumerate(os.listdir(train_akb)):\n",
    "    if file[-3:] == \"jpg\":            \n",
    "        img = image.load_img(os.path.join(train_akb, file), target_size= (96, 96))\n",
    "        img = image.img_to_array(img)\n",
    "        arr = np.expand_dims(img, axis=0)\n",
    "        X_train_ori [i + 600,] = arr\n",
    "        Y_train[i + 600] = 1\n",
    "\n",
    "# nogi _test\n",
    "for i, file in enumerate(os.listdir(test_nogi)):\n",
    "    if file[-3:] == \"jpg\":            \n",
    "        img = image.load_img(os.path.join(test_nogi, file), target_size= (96, 96))\n",
    "        arr = image.img_to_array(img)\n",
    "        #arr = np.expand_dims(img, axis=0)\n",
    "        X_test_ori [i,] = arr\n",
    "        Y_test[i,] = 0\n",
    "\n",
    "# akb_test\n",
    "for i, file in enumerate(os.listdir(test_akb)):\n",
    "    if file[-3:] == \"jpg\":            \n",
    "        img = image.load_img(os.path.join(test_akb, file), target_size= (96, 96))\n",
    "        arr = image.img_to_array(img)\n",
    "        #arr = np.expand_dims(img, axis=0)\n",
    "        X_test_ori [i + 50,] = arr\n",
    "        Y_test[i + 50] = 1\n",
    "\n",
    "X_train = X_train_ori.astype('float32')\n",
    "X_test = X_test_ori.astype('float32')\n",
    "X_train = X_train/255.\n",
    "X_test = X_test/255."
   ]
  },
  {
   "cell_type": "code",
   "execution_count": 2,
   "metadata": {},
   "outputs": [],
   "source": [
    "# model\n",
    "\n",
    "model = Sequential()\n",
    "model.add(Conv2D(16,(7,7),input_shape=(96,96,3),name ='conv0'))\n",
    "model.add(BatchNormalization(axis = 3, name = 'bn0'))\n",
    "model.add(Activation('relu'))\n",
    "model.add(MaxPooling2D((2, 2), name='max_pool1'))\n",
    "\n",
    "model.add(Conv2D(32,(5,5),name ='conv1'))\n",
    "model.add(BatchNormalization(axis = 3, name = 'bn1'))\n",
    "model.add(Activation('relu'))\n",
    "model.add(MaxPooling2D((2, 2), name='max_pool2'))\n",
    "\n",
    "model.add(Flatten())\n",
    "model.add(Dense(100, name='fc1'))\n",
    "model.add(Activation('relu'))\n",
    "model.add(Dense(1, name='fc2'))\n",
    "model.add(Activation('sigmoid'))"
   ]
  },
  {
   "cell_type": "code",
   "execution_count": 9,
   "metadata": {},
   "outputs": [],
   "source": [
    "# train\n",
    "model.compile(optimizer=\"Adam\", loss =\"binary_crossentropy\", metrics = [\"accuracy\"])"
   ]
  },
  {
   "cell_type": "code",
   "execution_count": 63,
   "metadata": {
    "scrolled": true
   },
   "outputs": [],
   "source": [
    "stack  = model.fit(x=X_train, y= Y_train, epochs=100, batch_size=128)\n",
    "model.save('./model/model_20180805')"
   ]
  },
  {
   "cell_type": "code",
   "execution_count": 3,
   "metadata": {},
   "outputs": [],
   "source": [
    "model.load_weights('./model/model_20180805')"
   ]
  },
  {
   "cell_type": "code",
   "execution_count": 81,
   "metadata": {},
   "outputs": [
    {
     "data": {
      "image/png": "[encoded data removed]",
      "text/plain": [
       "<Figure size 432x288 with 1 Axes>"
      ]
     },
     "metadata": {},
     "output_type": "display_data"
    },
    {
     "data": {
      "image/png": "[encoded data removed]",
      "text/plain": [
       "<Figure size 432x288 with 1 Axes>"
      ]
     },
     "metadata": {},
     "output_type": "display_data"
    }
   ],
   "source": [
    "x = range(100)\n",
    "plt.plot(x, stack.history['acc'], label=\"acc\")\n",
    "plt.title(\"accuracy\")\n",
    "plt.legend(loc='center left', bbox_to_anchor=(1, 0.5))\n",
    "plt.show()\n",
    "\n",
    "plt.plot(x, stack.history['loss'], label=\"loss\")\n",
    "plt.title(\"loss\")\n",
    "plt.legend(loc='center left', bbox_to_anchor=(1, 0.5))\n",
    "plt.show()"
   ]
  },
  {
   "cell_type": "code",
   "execution_count": 10,
   "metadata": {},
   "outputs": [
    {
     "name": "stdout",
     "output_type": "stream",
     "text": [
      "100/100 [==============================] - 1s 11ms/step\n",
      "Loss = 0.02803925797343254\n",
      "Test Accuracy = 0.9800000190734863\n"
     ]
    }
   ],
   "source": [
    "preds = model.evaluate(x = X_test, y = Y_test, batch_size=100)\n",
    "print (\"Loss = \" + str(preds[0]))\n",
    "print (\"Test Accuracy = \" + str(preds[1]))"
   ]
  },
  {
   "cell_type": "code",
   "execution_count": 7,
   "metadata": {},
   "outputs": [
    {
     "name": "stdout",
     "output_type": "stream",
     "text": [
      "_________________________________________________________________\n",
      "Layer (type)                 Output Shape              Param #   \n",
      "=================================================================\n",
      "conv0 (Conv2D)               (None, 90, 90, 16)        2368      \n",
      "_________________________________________________________________\n",
      "bn0 (BatchNormalization)     (None, 90, 90, 16)        64        \n",
      "_________________________________________________________________\n",
      "activation_1 (Activation)    (None, 90, 90, 16)        0         \n",
      "_________________________________________________________________\n",
      "max_pool1 (MaxPooling2D)     (None, 45, 45, 16)        0         \n",
      "_________________________________________________________________\n",
      "conv1 (Conv2D)               (None, 41, 41, 32)        12832     \n",
      "_________________________________________________________________\n",
      "bn1 (BatchNormalization)     (None, 41, 41, 32)        128       \n",
      "_________________________________________________________________\n",
      "activation_2 (Activation)    (None, 41, 41, 32)        0         \n",
      "_________________________________________________________________\n",
      "max_pool2 (MaxPooling2D)     (None, 20, 20, 32)        0         \n",
      "_________________________________________________________________\n",
      "flatten_1 (Flatten)          (None, 12800)             0         \n",
      "_________________________________________________________________\n",
      "fc1 (Dense)                  (None, 100)               1280100   \n",
      "_________________________________________________________________\n",
      "activation_3 (Activation)    (None, 100)               0         \n",
      "_________________________________________________________________\n",
      "fc2 (Dense)                  (None, 1)                 101       \n",
      "_________________________________________________________________\n",
      "activation_4 (Activation)    (None, 1)                 0         \n",
      "=================================================================\n",
      "Total params: 1,295,593\n",
      "Trainable params: 1,295,497\n",
      "Non-trainable params: 96\n",
      "_________________________________________________________________\n"
     ]
    }
   ],
   "source": [
    "model.summary()"
   ]
  },
  {
   "cell_type": "code",
   "execution_count": 11,
   "metadata": {},
   "outputs": [
    {
     "name": "stdout",
     "output_type": "stream",
     "text": [
      "(1, 96, 96, 3)\n"
     ]
    },
    {
     "data": {
      "text/plain": [
       "array([[0.00019034]], dtype=float32)"
      ]
     },
     "execution_count": 11,
     "metadata": {},
     "output_type": "execute_result"
    },
    {
     "data": {
      "image/png": "[encoded data removed]",
      "text/plain": [
       "<Figure size 432x288 with 1 Axes>"
      ]
     },
     "metadata": {},
     "output_type": "display_data"
    }
   ],
   "source": [
    "img_path = './img/train/keya_sample01.jpg'\n",
    "img = image.load_img(img_path, target_size= (96, 96))\n",
    "imshow(img)\n",
    "\n",
    "x = image.img_to_array(img)\n",
    "x = np.expand_dims(x, axis=0)/255.\n",
    "print(x.shape)\n",
    "\n",
    "\n",
    "model.predict(x)"
   ]
  },
  {
   "cell_type": "code",
   "execution_count": 12,
   "metadata": {},
   "outputs": [],
   "source": [
    "from sklearn.metrics import confusion_matrix, accuracy_score,precision_score,recall_score,f1_score"
   ]
  },
  {
   "cell_type": "code",
   "execution_count": 13,
   "metadata": {},
   "outputs": [],
   "source": [
    "_test_result = model.predict(X_test)\n",
    "test_result = np.where(_test_result < 0.5, 1, 0)\n",
    "test_ans = np.where(Y_test  < 0.5, 1, 0)"
   ]
  },
  {
   "cell_type": "code",
   "execution_count": 14,
   "metadata": {},
   "outputs": [
    {
     "data": {
      "text/plain": [
       "array([[48,  2],\n",
       "       [ 0, 50]])"
      ]
     },
     "execution_count": 14,
     "metadata": {},
     "output_type": "execute_result"
    }
   ],
   "source": [
    "confusion_matrix(test_ans.reshape(1,100)[0], test_result.reshape(1,100)[0],labels=[1,0])"
   ]
  },
  {
   "cell_type": "code",
   "execution_count": 15,
   "metadata": {},
   "outputs": [
    {
     "data": {
      "text/plain": [
       "0.98"
      ]
     },
     "execution_count": 15,
     "metadata": {},
     "output_type": "execute_result"
    }
   ],
   "source": [
    "accuracy_score(test_ans.reshape(1,100)[0], test_result.reshape(1,100)[0])"
   ]
  },
  {
   "cell_type": "code",
   "execution_count": 16,
   "metadata": {},
   "outputs": [
    {
     "data": {
      "text/plain": [
       "1.0"
      ]
     },
     "execution_count": 16,
     "metadata": {},
     "output_type": "execute_result"
    }
   ],
   "source": [
    "precision_score(test_ans.reshape(1,100)[0], test_result.reshape(1,100)[0],labels=[1,0])"
   ]
  },
  {
   "cell_type": "code",
   "execution_count": 17,
   "metadata": {},
   "outputs": [
    {
     "data": {
      "text/plain": [
       "0.96"
      ]
     },
     "execution_count": 17,
     "metadata": {},
     "output_type": "execute_result"
    }
   ],
   "source": [
    "recall_score(test_ans.reshape(1,100)[0], test_result.reshape(1,100)[0],labels=[1,0])"
   ]
  },
  {
   "cell_type": "code",
   "execution_count": 18,
   "metadata": {},
   "outputs": [
    {
     "data": {
      "text/plain": [
       "0.9795918367346939"
      ]
     },
     "execution_count": 18,
     "metadata": {},
     "output_type": "execute_result"
    }
   ],
   "source": [
    "f1_score(test_ans.reshape(1,100)[0], test_result.reshape(1,100)[0],labels=[1,0])"
   ]
  },
  {
   "cell_type": "code",
   "execution_count": 19,
   "metadata": {},
   "outputs": [
    {
     "data": {
      "text/plain": [
       "array([48,  2,  0, 50])"
      ]
     },
     "execution_count": 19,
     "metadata": {},
     "output_type": "execute_result"
    }
   ],
   "source": [
    "confusion_matrix(test_ans.reshape(1,100)[0], test_result.reshape(1,100)[0],labels=[1,0]).ravel()"
   ]
  },
  {
   "cell_type": "code",
   "execution_count": null,
   "metadata": {},
   "outputs": [],
   "source": []
  }
 ],
 "metadata": {
  "kernelspec": {
   "display_name": "Python 3",
   "language": "python",
   "name": "python3"
  },
  "language_info": {
   "codemirror_mode": {
    "name": "ipython",
    "version": 3
   },
   "file_extension": ".py",
   "mimetype": "text/x-python",
   "name": "python",
   "nbconvert_exporter": "python",
   "pygments_lexer": "ipython3",
   "version": "3.6.5"
  }
 },
 "nbformat": 4,
 "nbformat_minor": 2
}
